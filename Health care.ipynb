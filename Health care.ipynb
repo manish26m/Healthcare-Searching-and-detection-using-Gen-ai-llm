{
 "cells": [
  {
   "cell_type": "code",
   "execution_count": 1,
   "id": "8c8dda5b-7462-4e66-888a-af0f498e973a",
   "metadata": {},
   "outputs": [],
   "source": [
    "import openai\n",
    "from openai import OpenAI\n",
    "import langchain\n",
    "from langchain.llms import OpenAI"
   ]
  },
  {
   "cell_type": "code",
   "execution_count": 2,
   "id": "9062eac7-f993-4e96-9f1a-78f52f23cd84",
   "metadata": {},
   "outputs": [],
   "source": [
    "mykey=\"sk-proj-9AVWbmne8o8XVw354QB7T3BlbkFJO6Cq4w4dvS531gbDQ6fB\"\n",
    "openai.api_key=mykey"
   ]
  },
  {
   "cell_type": "code",
   "execution_count": 3,
   "id": "eed00ded-46c1-408d-9831-00f1f4058834",
   "metadata": {},
   "outputs": [
    {
     "name": "stderr",
     "output_type": "stream",
     "text": [
      "C:\\Users\\manis\\anaconda3\\envs\\crewai\\Lib\\site-packages\\langchain_core\\_api\\deprecation.py:119: LangChainDeprecationWarning: The class `OpenAI` was deprecated in LangChain 0.0.10 and will be removed in 0.3.0. An updated version of the class exists in the langchain-openai package and should be used instead. To use it run `pip install -U langchain-openai` and import as `from langchain_openai import OpenAI`.\n",
      "  warn_deprecated(\n"
     ]
    }
   ],
   "source": [
    "client = OpenAI(api_key=mykey)"
   ]
  },
  {
   "cell_type": "code",
   "execution_count": 4,
   "id": "392dd3ff-f1fd-4e5e-b96b-61c362b9f1bf",
   "metadata": {},
   "outputs": [
    {
     "name": "stdout",
     "output_type": "stream",
     "text": [
      "Enter Symptoms experiencedbohot jayada potty hocche\n",
      "Enter Your age20\n",
      "Enter Your Citykolkata\n",
      "Enter the severity level (minor, moderate, major, and extreme):-extreme\n",
      "Duration of your symptoms that you have experienced in days30 days\n"
     ]
    }
   ],
   "source": [
    "symptoms=input(\"Enter Symptoms experienced\")\n",
    "age=int(input(\"Enter Your age\"))\n",
    "City=input(\"Enter Your City\")\n",
    "Severity=input(\"Enter the severity level (minor, moderate, major, and extreme):-\")\n",
    "duration=input(\"Duration of your symptoms that you have experienced in days\")"
   ]
  },
  {
   "cell_type": "code",
   "execution_count": 5,
   "id": "f10aebdb-e00b-448c-941d-8b41914058fe",
   "metadata": {},
   "outputs": [],
   "source": [
    "from langchain.prompts import PromptTemplate\n",
    "from langchain.chains import LLMChain"
   ]
  },
  {
   "cell_type": "code",
   "execution_count": 6,
   "id": "2e0674e5-7539-47b9-89d3-ab75492c3438",
   "metadata": {},
   "outputs": [
    {
     "name": "stderr",
     "output_type": "stream",
     "text": [
      "C:\\Users\\manis\\anaconda3\\envs\\crewai\\Lib\\site-packages\\langchain_core\\_api\\deprecation.py:119: LangChainDeprecationWarning: The class `LLMChain` was deprecated in LangChain 0.1.17 and will be removed in 0.3.0. Use RunnableSequence, e.g., `prompt | llm` instead.\n",
      "  warn_deprecated(\n"
     ]
    }
   ],
   "source": [
    "\n",
    "predicted_disease=PromptTemplate(\n",
    "    input_variables=[\"symptoms\", \"duration\", \"Severity\", \"age\"] ,  \n",
    "    template=\"Paitent has been experiencing {symptoms} from {duration} its severity Level is {Severity} and its age is {age} guess 3 most suitable diseases possible\"\n",
    ")\n",
    "getpd=LLMChain(llm=client,prompt= predicted_disease,output_key=\"Predicted_disease_name\")"
   ]
  },
  {
   "cell_type": "code",
   "execution_count": 7,
   "id": "fdceff07-0c34-48d2-be52-a3475079dd0a",
   "metadata": {},
   "outputs": [],
   "source": [
    "#guess=getpd.run({\"symptoms\":symptoms,\"duration\":duration,\"Severity\":Severity,\"age\":age})"
   ]
  },
  {
   "cell_type": "code",
   "execution_count": 8,
   "id": "04703d50-93d7-483d-a89b-b782a285fa82",
   "metadata": {},
   "outputs": [],
   "source": [
    "#guess.strip()\n"
   ]
  },
  {
   "cell_type": "code",
   "execution_count": 9,
   "id": "741fd9a7-a81a-4160-91d3-6488cde08929",
   "metadata": {},
   "outputs": [],
   "source": [
    "Remedies=PromptTemplate(\n",
    "    input_variables=[\"Predicted_disease_name\"] ,  \n",
    "    template=\"it is {Predicted_disease_name}, Provide some immediate remedies for the patient to perform at home\"\n",
    ")\n",
    "remedies = LLMChain(llm = client, prompt = Remedies,output_key=\"Remedies\")"
   ]
  },
  {
   "cell_type": "code",
   "execution_count": 10,
   "id": "aaec4c25-adb9-4e5d-b9e0-93059b72a574",
   "metadata": {},
   "outputs": [],
   "source": [
    "recovery=PromptTemplate(\n",
    "    input_variables=[\"Predicted_disease_name\"],\n",
    "    template=\"Approximate recovery time of the paitent who have {Predicted_disease_name}\")\n",
    "recovery=LLMChain(llm=client,prompt=recovery,output_key=\"recovery\")"
   ]
  },
  {
   "cell_type": "code",
   "execution_count": 11,
   "id": "2b9de4e5-2d5f-43c0-bcc3-93da95917a3a",
   "metadata": {},
   "outputs": [],
   "source": [
    "hospitals=PromptTemplate(\n",
    "    input_variables=[\"Predicted_disease_name\",\"City\"],\n",
    "    template=\"Paitent lives in {City} and has {Predicted_disease_name}, suggest him/her 3 nearby hospital to solve the disease\")\n",
    "hospital=LLMChain(llm=client,prompt=hospitals,output_key=\"hospital_name\")"
   ]
  },
  {
   "cell_type": "code",
   "execution_count": 12,
   "id": "1f928b67-6c8f-4000-bdc7-71e7edea9217",
   "metadata": {},
   "outputs": [],
   "source": [
    "costs=PromptTemplate(\n",
    "    input_variables=[\"hospital_name\",\"Predicted_disease_name\"],\n",
    "    template=\"the approximate cost in indian ruppes of treatment of {Predicted_disease_name} in {hospital_name} \")\n",
    "costs=LLMChain(llm=client,prompt=costs,output_key=\"cost\")"
   ]
  },
  {
   "cell_type": "code",
   "execution_count": 13,
   "id": "11abd4a1-7ca7-4587-a45a-25d7c3cf9873",
   "metadata": {},
   "outputs": [
    {
     "data": {
      "text/plain": [
       "'from langchain.chains import SequentialChain\\nchain = SequentialChain(chains = [getpd,remedies,hospital,costs,recovery],\\n input_variables = [{\"symptoms\":symptoms,\"duration\":duration,\"Severity\":Severity,\"age\":age,\"City\":City}],\\n output_variables = [\"disease_name\",\"Remedies\",\"hospital_name\",\"cost\",\"recovery\"],verbose=True\\n)'"
      ]
     },
     "execution_count": 13,
     "metadata": {},
     "output_type": "execute_result"
    }
   ],
   "source": [
    "'''from langchain.chains import SequentialChain\n",
    "chain = SequentialChain(chains = [getpd,remedies,hospital,costs,recovery],\n",
    " input_variables = [{\"symptoms\":symptoms,\"duration\":duration,\"Severity\":Severity,\"age\":age,\"City\":City}],\n",
    " output_variables = [\"disease_name\",\"Remedies\",\"hospital_name\",\"cost\",\"recovery\"],verbose=True\n",
    ")'''"
   ]
  },
  {
   "cell_type": "code",
   "execution_count": 14,
   "id": "d22c3a4d-ecdb-4a9a-a12a-d0262140593e",
   "metadata": {},
   "outputs": [],
   "source": [
    "from langchain.chains import SequentialChain\n",
    "chain = SequentialChain(chains = [getpd,remedies,hospital,costs,recovery],\n",
    " input_variables = [\"symptoms\",\"duration\",\"Severity\",\"age\",\"City\"],\n",
    " output_variables = [\"Predicted_disease_name\",\"Remedies\",\"hospital_name\",\"cost\",\"recovery\"]\n",
    ")"
   ]
  },
  {
   "cell_type": "code",
   "execution_count": 15,
   "id": "f3831726-8ce7-49f1-8526-0e43386a3b48",
   "metadata": {},
   "outputs": [
    {
     "name": "stderr",
     "output_type": "stream",
     "text": [
      "C:\\Users\\manis\\anaconda3\\envs\\crewai\\Lib\\site-packages\\langchain_core\\_api\\deprecation.py:119: LangChainDeprecationWarning: The method `Chain.__call__` was deprecated in langchain 0.1.0 and will be removed in 0.3.0. Use invoke instead.\n",
      "  warn_deprecated(\n"
     ]
    }
   ],
   "source": [
    "l=chain({\"symptoms\":symptoms,\"duration\":duration,\"Severity\":Severity,\"age\":age,\"City\":City})"
   ]
  },
  {
   "cell_type": "code",
   "execution_count": 16,
   "id": "cdae19a6-c317-4cef-a90f-504d4077dd54",
   "metadata": {},
   "outputs": [
    {
     "data": {
      "text/plain": [
       "LLMChain(prompt=PromptTemplate(input_variables=['Predicted_disease_name'], template='Approximate recovery time of the paitent who have {Predicted_disease_name}'), llm=OpenAI(client=<openai.resources.completions.Completions object at 0x000001F53C66E250>, async_client=<openai.resources.completions.AsyncCompletions object at 0x000001F53C82C1D0>, openai_api_key='sk-proj-9AVWbmne8o8XVw354QB7T3BlbkFJO6Cq4w4dvS531gbDQ6fB', openai_proxy=''), output_key='recovery')"
      ]
     },
     "execution_count": 16,
     "metadata": {},
     "output_type": "execute_result"
    }
   ],
   "source": [
    "recovery"
   ]
  },
  {
   "cell_type": "code",
   "execution_count": 17,
   "id": "c5eeda66-67cb-4b96-a62f-c18f14d57663",
   "metadata": {},
   "outputs": [],
   "source": [
    "BOLD = \"\\033[1m\"\n",
    "UNDERLINE = \"\\033[4m\"\n",
    "RESET = \"\\033[0m\""
   ]
  },
  {
   "cell_type": "code",
   "execution_count": 18,
   "id": "b6c2cb5b-eaf5-4ac8-8a8c-0ef2d65cc33a",
   "metadata": {},
   "outputs": [
    {
     "name": "stdout",
     "output_type": "stream",
     "text": [
      "\u001b[1m\u001b[4mSYMPTOMS\u001b[0m:- bohot jayada potty hocche\n",
      "\n",
      "\u001b[1m\u001b[4mDURATION\u001b[0m:- 30 days\n",
      "\n",
      "\u001b[1m\u001b[4mSEVERITY\u001b[0m:- extreme\n",
      "\n",
      "\u001b[1m\u001b[4mAGE\u001b[0m:- 20\n",
      "\n",
      "\u001b[1m\u001b[4mCITY\u001b[0m:- kolkata\n",
      "\n",
      "\u001b[1m\u001b[4mPREDICTED_DISEASE_NAME\u001b[0m:- \n",
      "\n",
      "1) Infectious diarrhea caused by a bacterial or viral infection\n",
      "2) Inflammatory bowel disease, such as Crohn's disease or ulcerative colitis\n",
      "3) Intestinal parasite infection, such as giardiasis or amebiasis\n",
      "\n",
      "\u001b[1m\u001b[4mREMEDIES\u001b[0m:- \n",
      "\n",
      "1) Stay hydrated by drinking plenty of water and electrolyte-rich fluids like sports drinks or coconut water.\n",
      "2) Eat bland, easy-to-digest foods like rice, toast, bananas, and boiled potatoes.\n",
      "3) Take over-the-counter medications like loperamide or bismuth subsalicylate to help control diarrhea.\n",
      "4) Avoid dairy products, caffeine, alcohol, and spicy or fatty foods.\n",
      "5) Rest and allow your body to recover.\n",
      "6) If symptoms persist or worsen, consult a doctor for further treatment. \n",
      "\n",
      "\u001b[1m\u001b[4mHOSPITAL_NAME\u001b[0m:- \n",
      "\n",
      "1) Apollo Gleneagles Hospitals, Kolkata\n",
      "2) Fortis Hospital, Kolkata\n",
      "3) Peerless Hospital and B.K. Roy Research Center, Kolkata\n",
      "\n",
      "\u001b[1m\u001b[4mCOST\u001b[0m:- \n",
      "\n",
      "1) The approximate cost for treatment of infectious diarrhea caused by a bacterial or viral infection at Apollo Gleneagles Hospitals in Kolkata can range from Rs. 10,000 to Rs. 50,000, depending on the severity of the infection and the type of treatment required.\n",
      "\n",
      "2) The approximate cost for treatment of inflammatory bowel disease at Fortis Hospital in Kolkata can range from Rs. 50,000 to Rs. 2 lakhs, depending on the type and severity of the disease and the treatment plan recommended by the doctor.\n",
      "\n",
      "3) The approximate cost for treatment of intestinal parasite infections at Peerless Hospital and B.K. Roy Research Center in Kolkata can range from Rs. 5,000 to Rs. 20,000, depending on the type of infection and the treatment required. This cost may also vary depending on the duration of treatment and any additional procedures or tests that may be required.\n",
      "\n",
      "\u001b[1m\u001b[4mRECOVERY\u001b[0m:- \n",
      "\n",
      "1) The recovery time for infectious diarrhea can vary depending on the severity of the infection and the overall health of the patient. In most cases, symptoms will improve within a few days to a week. However, it may take a few weeks for the digestive system to fully recover and for the patient to regain their strength and energy.\n",
      "\n",
      "2) The recovery time for inflammatory bowel disease can also vary greatly, depending on the severity and type of disease. In mild cases, symptoms may improve within a week or two with proper treatment. In more severe cases, it may take several weeks or months for symptoms to improve. The patient may also experience periods of remission and flare-ups, which can affect the overall recovery time.\n",
      "\n",
      "3) The recovery time for an intestinal parasite infection can also vary depending on the specific parasite and the severity of the infection. In most cases, symptoms will improve within a few weeks with proper treatment. However, some parasitic infections can be more difficult to treat and may take longer to fully recover. It is important for the patient to closely follow their treatment plan and continue to monitor their symptoms until they are fully recovered.\n",
      "\n"
     ]
    }
   ],
   "source": [
    "for key, values in l.items():\n",
    "    print(f\"{BOLD}{UNDERLINE}{key.upper()}{RESET}:-\", values)\n",
    "    print()\n",
    "    file = open('user_details.txt', 'a')\n",
    "    file.write(f\"{key.upper()}:-\\n\")\n",
    "    file.write(f\"{values} \\n\")\n",
    "file.close()"
   ]
  },
  {
   "cell_type": "code",
   "execution_count": null,
   "id": "b95d5bc7-b2e0-4251-b26f-e79f30fcd96e",
   "metadata": {},
   "outputs": [],
   "source": []
  },
  {
   "cell_type": "code",
   "execution_count": null,
   "id": "aeb80f21-a799-44c5-8511-0ba104a15e7a",
   "metadata": {},
   "outputs": [],
   "source": []
  },
  {
   "cell_type": "code",
   "execution_count": null,
   "id": "9586da9e-aed1-4daa-bf3c-6c41b3d6afea",
   "metadata": {},
   "outputs": [],
   "source": []
  }
 ],
 "metadata": {
  "kernelspec": {
   "display_name": "Python 3 (ipykernel)",
   "language": "python",
   "name": "python3"
  },
  "language_info": {
   "codemirror_mode": {
    "name": "ipython",
    "version": 3
   },
   "file_extension": ".py",
   "mimetype": "text/x-python",
   "name": "python",
   "nbconvert_exporter": "python",
   "pygments_lexer": "ipython3",
   "version": "3.11.4"
  }
 },
 "nbformat": 4,
 "nbformat_minor": 5
}
